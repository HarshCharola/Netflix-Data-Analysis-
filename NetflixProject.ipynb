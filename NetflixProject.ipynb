{
 "cells": [
  {
   "cell_type": "code",
   "execution_count": 59,
   "id": "30c19241-354a-412c-816d-f378a0b1535e",
   "metadata": {},
   "outputs": [],
   "source": [
    "import pandas as pd\n",
    "import numpy as np"
   ]
  },
  {
   "cell_type": "code",
   "execution_count": null,
   "id": "075edd47-d6d6-4a74-9848-c98902b1d96d",
   "metadata": {},
   "outputs": [],
   "source": []
  },
  {
   "cell_type": "markdown",
   "id": "be9fa3ad-ed68-4e04-8ca5-18869e7a9957",
   "metadata": {},
   "source": [
    "#### read file"
   ]
  },
  {
   "cell_type": "code",
   "execution_count": 62,
   "id": "e5445b3d-aabb-416c-ab52-3ebc2ab38802",
   "metadata": {},
   "outputs": [],
   "source": [
    "df= pd.read_csv('netflix_titles.csv')"
   ]
  },
  {
   "cell_type": "code",
   "execution_count": 63,
   "id": "84e1aff5-221e-4a7f-984c-c16a5c15820e",
   "metadata": {},
   "outputs": [
    {
     "data": {
      "text/plain": [
       "(8807, 12)"
      ]
     },
     "execution_count": 63,
     "metadata": {},
     "output_type": "execute_result"
    }
   ],
   "source": [
    "df.shape"
   ]
  },
  {
   "cell_type": "code",
   "execution_count": 64,
   "id": "ace263d1-3b44-4066-8676-728e8d2b07a9",
   "metadata": {},
   "outputs": [
    {
     "data": {
      "text/html": [
       "<div>\n",
       "<style scoped>\n",
       "    .dataframe tbody tr th:only-of-type {\n",
       "        vertical-align: middle;\n",
       "    }\n",
       "\n",
       "    .dataframe tbody tr th {\n",
       "        vertical-align: top;\n",
       "    }\n",
       "\n",
       "    .dataframe thead th {\n",
       "        text-align: right;\n",
       "    }\n",
       "</style>\n",
       "<table border=\"1\" class=\"dataframe\">\n",
       "  <thead>\n",
       "    <tr style=\"text-align: right;\">\n",
       "      <th></th>\n",
       "      <th>show_id</th>\n",
       "      <th>type</th>\n",
       "      <th>title</th>\n",
       "      <th>director</th>\n",
       "      <th>cast</th>\n",
       "      <th>country</th>\n",
       "      <th>date_added</th>\n",
       "      <th>release_year</th>\n",
       "      <th>rating</th>\n",
       "      <th>duration</th>\n",
       "      <th>listed_in</th>\n",
       "      <th>description</th>\n",
       "    </tr>\n",
       "  </thead>\n",
       "  <tbody>\n",
       "    <tr>\n",
       "      <th>0</th>\n",
       "      <td>s1</td>\n",
       "      <td>Movie</td>\n",
       "      <td>Dick Johnson Is Dead</td>\n",
       "      <td>Kirsten Johnson</td>\n",
       "      <td>NaN</td>\n",
       "      <td>United States</td>\n",
       "      <td>September 25, 2021</td>\n",
       "      <td>2020</td>\n",
       "      <td>PG-13</td>\n",
       "      <td>90 min</td>\n",
       "      <td>Documentaries</td>\n",
       "      <td>As her father nears the end of his life, filmm...</td>\n",
       "    </tr>\n",
       "    <tr>\n",
       "      <th>1</th>\n",
       "      <td>s2</td>\n",
       "      <td>TV Show</td>\n",
       "      <td>Blood &amp; Water</td>\n",
       "      <td>NaN</td>\n",
       "      <td>Ama Qamata, Khosi Ngema, Gail Mabalane, Thaban...</td>\n",
       "      <td>South Africa</td>\n",
       "      <td>September 24, 2021</td>\n",
       "      <td>2021</td>\n",
       "      <td>TV-MA</td>\n",
       "      <td>2 Seasons</td>\n",
       "      <td>International TV Shows, TV Dramas, TV Mysteries</td>\n",
       "      <td>After crossing paths at a party, a Cape Town t...</td>\n",
       "    </tr>\n",
       "    <tr>\n",
       "      <th>2</th>\n",
       "      <td>s3</td>\n",
       "      <td>TV Show</td>\n",
       "      <td>Ganglands</td>\n",
       "      <td>Julien Leclercq</td>\n",
       "      <td>Sami Bouajila, Tracy Gotoas, Samuel Jouy, Nabi...</td>\n",
       "      <td>NaN</td>\n",
       "      <td>September 24, 2021</td>\n",
       "      <td>2021</td>\n",
       "      <td>TV-MA</td>\n",
       "      <td>1 Season</td>\n",
       "      <td>Crime TV Shows, International TV Shows, TV Act...</td>\n",
       "      <td>To protect his family from a powerful drug lor...</td>\n",
       "    </tr>\n",
       "    <tr>\n",
       "      <th>3</th>\n",
       "      <td>s4</td>\n",
       "      <td>TV Show</td>\n",
       "      <td>Jailbirds New Orleans</td>\n",
       "      <td>NaN</td>\n",
       "      <td>NaN</td>\n",
       "      <td>NaN</td>\n",
       "      <td>September 24, 2021</td>\n",
       "      <td>2021</td>\n",
       "      <td>TV-MA</td>\n",
       "      <td>1 Season</td>\n",
       "      <td>Docuseries, Reality TV</td>\n",
       "      <td>Feuds, flirtations and toilet talk go down amo...</td>\n",
       "    </tr>\n",
       "    <tr>\n",
       "      <th>4</th>\n",
       "      <td>s5</td>\n",
       "      <td>TV Show</td>\n",
       "      <td>Kota Factory</td>\n",
       "      <td>NaN</td>\n",
       "      <td>Mayur More, Jitendra Kumar, Ranjan Raj, Alam K...</td>\n",
       "      <td>India</td>\n",
       "      <td>September 24, 2021</td>\n",
       "      <td>2021</td>\n",
       "      <td>TV-MA</td>\n",
       "      <td>2 Seasons</td>\n",
       "      <td>International TV Shows, Romantic TV Shows, TV ...</td>\n",
       "      <td>In a city of coaching centers known to train I...</td>\n",
       "    </tr>\n",
       "  </tbody>\n",
       "</table>\n",
       "</div>"
      ],
      "text/plain": [
       "  show_id     type                  title         director  \\\n",
       "0      s1    Movie   Dick Johnson Is Dead  Kirsten Johnson   \n",
       "1      s2  TV Show          Blood & Water              NaN   \n",
       "2      s3  TV Show              Ganglands  Julien Leclercq   \n",
       "3      s4  TV Show  Jailbirds New Orleans              NaN   \n",
       "4      s5  TV Show           Kota Factory              NaN   \n",
       "\n",
       "                                                cast        country  \\\n",
       "0                                                NaN  United States   \n",
       "1  Ama Qamata, Khosi Ngema, Gail Mabalane, Thaban...   South Africa   \n",
       "2  Sami Bouajila, Tracy Gotoas, Samuel Jouy, Nabi...            NaN   \n",
       "3                                                NaN            NaN   \n",
       "4  Mayur More, Jitendra Kumar, Ranjan Raj, Alam K...          India   \n",
       "\n",
       "           date_added  release_year rating   duration  \\\n",
       "0  September 25, 2021          2020  PG-13     90 min   \n",
       "1  September 24, 2021          2021  TV-MA  2 Seasons   \n",
       "2  September 24, 2021          2021  TV-MA   1 Season   \n",
       "3  September 24, 2021          2021  TV-MA   1 Season   \n",
       "4  September 24, 2021          2021  TV-MA  2 Seasons   \n",
       "\n",
       "                                           listed_in  \\\n",
       "0                                      Documentaries   \n",
       "1    International TV Shows, TV Dramas, TV Mysteries   \n",
       "2  Crime TV Shows, International TV Shows, TV Act...   \n",
       "3                             Docuseries, Reality TV   \n",
       "4  International TV Shows, Romantic TV Shows, TV ...   \n",
       "\n",
       "                                         description  \n",
       "0  As her father nears the end of his life, filmm...  \n",
       "1  After crossing paths at a party, a Cape Town t...  \n",
       "2  To protect his family from a powerful drug lor...  \n",
       "3  Feuds, flirtations and toilet talk go down amo...  \n",
       "4  In a city of coaching centers known to train I...  "
      ]
     },
     "execution_count": 64,
     "metadata": {},
     "output_type": "execute_result"
    }
   ],
   "source": [
    "df.head(5)"
   ]
  },
  {
   "cell_type": "code",
   "execution_count": null,
   "id": "62da4cf9-cbb7-4733-b601-a0adfdd12fb0",
   "metadata": {},
   "outputs": [],
   "source": []
  },
  {
   "cell_type": "code",
   "execution_count": 65,
   "id": "d4dee210-8a4c-4efe-bf9a-3b734d78d8df",
   "metadata": {},
   "outputs": [
    {
     "name": "stdout",
     "output_type": "stream",
     "text": [
      "<class 'pandas.core.frame.DataFrame'>\n",
      "RangeIndex: 8807 entries, 0 to 8806\n",
      "Data columns (total 12 columns):\n",
      " #   Column        Non-Null Count  Dtype \n",
      "---  ------        --------------  ----- \n",
      " 0   show_id       8807 non-null   object\n",
      " 1   type          8807 non-null   object\n",
      " 2   title         8807 non-null   object\n",
      " 3   director      6173 non-null   object\n",
      " 4   cast          7982 non-null   object\n",
      " 5   country       7976 non-null   object\n",
      " 6   date_added    8797 non-null   object\n",
      " 7   release_year  8807 non-null   int64 \n",
      " 8   rating        8803 non-null   object\n",
      " 9   duration      8804 non-null   object\n",
      " 10  listed_in     8807 non-null   object\n",
      " 11  description   8807 non-null   object\n",
      "dtypes: int64(1), object(11)\n",
      "memory usage: 825.8+ KB\n"
     ]
    }
   ],
   "source": [
    "df.info()\n"
   ]
  },
  {
   "cell_type": "code",
   "execution_count": null,
   "id": "9a8ab672-fc26-4965-8e86-dbb46fc6e7d3",
   "metadata": {},
   "outputs": [],
   "source": []
  },
  {
   "cell_type": "code",
   "execution_count": null,
   "id": "5b700d37-f832-4a81-8c0c-8b880be4c23b",
   "metadata": {},
   "outputs": [],
   "source": []
  },
  {
   "cell_type": "markdown",
   "id": "e5d612ef-dd19-41a7-8df0-9455d83183d4",
   "metadata": {},
   "source": [
    "#### droping unnecessary columns"
   ]
  },
  {
   "cell_type": "code",
   "execution_count": 66,
   "id": "6c123150-a052-40af-beb1-955ce61ea50e",
   "metadata": {},
   "outputs": [],
   "source": [
    "df.drop([\"show_id\",\"description\"], axis=1, inplace=True)"
   ]
  },
  {
   "cell_type": "code",
   "execution_count": null,
   "id": "11fa1c62-8826-483b-920d-dcdd84e6529d",
   "metadata": {},
   "outputs": [],
   "source": []
  },
  {
   "cell_type": "code",
   "execution_count": 67,
   "id": "5770278c-c127-4a21-9b17-317706981213",
   "metadata": {},
   "outputs": [
    {
     "data": {
      "text/html": [
       "<div>\n",
       "<style scoped>\n",
       "    .dataframe tbody tr th:only-of-type {\n",
       "        vertical-align: middle;\n",
       "    }\n",
       "\n",
       "    .dataframe tbody tr th {\n",
       "        vertical-align: top;\n",
       "    }\n",
       "\n",
       "    .dataframe thead th {\n",
       "        text-align: right;\n",
       "    }\n",
       "</style>\n",
       "<table border=\"1\" class=\"dataframe\">\n",
       "  <thead>\n",
       "    <tr style=\"text-align: right;\">\n",
       "      <th></th>\n",
       "      <th>type</th>\n",
       "      <th>title</th>\n",
       "      <th>director</th>\n",
       "      <th>cast</th>\n",
       "      <th>country</th>\n",
       "      <th>date_added</th>\n",
       "      <th>release_year</th>\n",
       "      <th>rating</th>\n",
       "      <th>duration</th>\n",
       "      <th>listed_in</th>\n",
       "    </tr>\n",
       "  </thead>\n",
       "  <tbody>\n",
       "    <tr>\n",
       "      <th>0</th>\n",
       "      <td>Movie</td>\n",
       "      <td>Dick Johnson Is Dead</td>\n",
       "      <td>Kirsten Johnson</td>\n",
       "      <td>NaN</td>\n",
       "      <td>United States</td>\n",
       "      <td>September 25, 2021</td>\n",
       "      <td>2020</td>\n",
       "      <td>PG-13</td>\n",
       "      <td>90 min</td>\n",
       "      <td>Documentaries</td>\n",
       "    </tr>\n",
       "    <tr>\n",
       "      <th>1</th>\n",
       "      <td>TV Show</td>\n",
       "      <td>Blood &amp; Water</td>\n",
       "      <td>NaN</td>\n",
       "      <td>Ama Qamata, Khosi Ngema, Gail Mabalane, Thaban...</td>\n",
       "      <td>South Africa</td>\n",
       "      <td>September 24, 2021</td>\n",
       "      <td>2021</td>\n",
       "      <td>TV-MA</td>\n",
       "      <td>2 Seasons</td>\n",
       "      <td>International TV Shows, TV Dramas, TV Mysteries</td>\n",
       "    </tr>\n",
       "    <tr>\n",
       "      <th>2</th>\n",
       "      <td>TV Show</td>\n",
       "      <td>Ganglands</td>\n",
       "      <td>Julien Leclercq</td>\n",
       "      <td>Sami Bouajila, Tracy Gotoas, Samuel Jouy, Nabi...</td>\n",
       "      <td>NaN</td>\n",
       "      <td>September 24, 2021</td>\n",
       "      <td>2021</td>\n",
       "      <td>TV-MA</td>\n",
       "      <td>1 Season</td>\n",
       "      <td>Crime TV Shows, International TV Shows, TV Act...</td>\n",
       "    </tr>\n",
       "    <tr>\n",
       "      <th>3</th>\n",
       "      <td>TV Show</td>\n",
       "      <td>Jailbirds New Orleans</td>\n",
       "      <td>NaN</td>\n",
       "      <td>NaN</td>\n",
       "      <td>NaN</td>\n",
       "      <td>September 24, 2021</td>\n",
       "      <td>2021</td>\n",
       "      <td>TV-MA</td>\n",
       "      <td>1 Season</td>\n",
       "      <td>Docuseries, Reality TV</td>\n",
       "    </tr>\n",
       "    <tr>\n",
       "      <th>4</th>\n",
       "      <td>TV Show</td>\n",
       "      <td>Kota Factory</td>\n",
       "      <td>NaN</td>\n",
       "      <td>Mayur More, Jitendra Kumar, Ranjan Raj, Alam K...</td>\n",
       "      <td>India</td>\n",
       "      <td>September 24, 2021</td>\n",
       "      <td>2021</td>\n",
       "      <td>TV-MA</td>\n",
       "      <td>2 Seasons</td>\n",
       "      <td>International TV Shows, Romantic TV Shows, TV ...</td>\n",
       "    </tr>\n",
       "  </tbody>\n",
       "</table>\n",
       "</div>"
      ],
      "text/plain": [
       "      type                  title         director  \\\n",
       "0    Movie   Dick Johnson Is Dead  Kirsten Johnson   \n",
       "1  TV Show          Blood & Water              NaN   \n",
       "2  TV Show              Ganglands  Julien Leclercq   \n",
       "3  TV Show  Jailbirds New Orleans              NaN   \n",
       "4  TV Show           Kota Factory              NaN   \n",
       "\n",
       "                                                cast        country  \\\n",
       "0                                                NaN  United States   \n",
       "1  Ama Qamata, Khosi Ngema, Gail Mabalane, Thaban...   South Africa   \n",
       "2  Sami Bouajila, Tracy Gotoas, Samuel Jouy, Nabi...            NaN   \n",
       "3                                                NaN            NaN   \n",
       "4  Mayur More, Jitendra Kumar, Ranjan Raj, Alam K...          India   \n",
       "\n",
       "           date_added  release_year rating   duration  \\\n",
       "0  September 25, 2021          2020  PG-13     90 min   \n",
       "1  September 24, 2021          2021  TV-MA  2 Seasons   \n",
       "2  September 24, 2021          2021  TV-MA   1 Season   \n",
       "3  September 24, 2021          2021  TV-MA   1 Season   \n",
       "4  September 24, 2021          2021  TV-MA  2 Seasons   \n",
       "\n",
       "                                           listed_in  \n",
       "0                                      Documentaries  \n",
       "1    International TV Shows, TV Dramas, TV Mysteries  \n",
       "2  Crime TV Shows, International TV Shows, TV Act...  \n",
       "3                             Docuseries, Reality TV  \n",
       "4  International TV Shows, Romantic TV Shows, TV ...  "
      ]
     },
     "execution_count": 67,
     "metadata": {},
     "output_type": "execute_result"
    }
   ],
   "source": [
    "df.head(5)"
   ]
  },
  {
   "cell_type": "code",
   "execution_count": null,
   "id": "c614a804-c0a2-4565-a665-54d66a314aef",
   "metadata": {},
   "outputs": [],
   "source": []
  },
  {
   "cell_type": "code",
   "execution_count": 68,
   "id": "ccdb8a63-d78d-45a6-b6c0-aa630e9c5598",
   "metadata": {},
   "outputs": [
    {
     "data": {
      "text/plain": [
       "type               0\n",
       "title              0\n",
       "director        2634\n",
       "cast             825\n",
       "country          831\n",
       "date_added        10\n",
       "release_year       0\n",
       "rating             4\n",
       "duration           3\n",
       "listed_in          0\n",
       "dtype: int64"
      ]
     },
     "execution_count": 68,
     "metadata": {},
     "output_type": "execute_result"
    }
   ],
   "source": [
    "df.isna().sum()"
   ]
  },
  {
   "cell_type": "code",
   "execution_count": null,
   "id": "26260ba9-04e5-4335-8e07-cde504038c07",
   "metadata": {},
   "outputs": [],
   "source": []
  },
  {
   "cell_type": "code",
   "execution_count": null,
   "id": "8b46ac48-8b7a-44c6-9c8b-6d900a0e8502",
   "metadata": {},
   "outputs": [],
   "source": []
  },
  {
   "cell_type": "code",
   "execution_count": 69,
   "id": "5bf89cf7-6edf-4c73-9e6c-df74ac36e6f2",
   "metadata": {},
   "outputs": [
    {
     "data": {
      "text/plain": [
       "Index(['type', 'title', 'director', 'cast', 'country', 'date_added',\n",
       "       'release_year', 'rating', 'duration', 'listed_in'],\n",
       "      dtype='object')"
      ]
     },
     "execution_count": 69,
     "metadata": {},
     "output_type": "execute_result"
    }
   ],
   "source": [
    "df.columns"
   ]
  },
  {
   "cell_type": "code",
   "execution_count": null,
   "id": "7b31c30b-9b39-453b-98bb-941219f59f01",
   "metadata": {},
   "outputs": [],
   "source": []
  },
  {
   "cell_type": "markdown",
   "id": "0796c91f-0d5e-41d9-a57e-491978c2dce0",
   "metadata": {},
   "source": [
    "#### fill null value with mode(most frequent value)"
   ]
  },
  {
   "cell_type": "code",
   "execution_count": null,
   "id": "e83176d0-d7ee-4a1e-8ce9-fcf8ba42c85a",
   "metadata": {},
   "outputs": [],
   "source": []
  },
  {
   "cell_type": "code",
   "execution_count": 27,
   "id": "7b469438-27e8-4d7b-8b4b-cdc936798ffa",
   "metadata": {},
   "outputs": [],
   "source": [
    "# country column"
   ]
  },
  {
   "cell_type": "code",
   "execution_count": 70,
   "id": "63ded8af-44ba-49a8-8f8f-260631cf702d",
   "metadata": {},
   "outputs": [
    {
     "data": {
      "text/plain": [
       "country\n",
       "United States     2818\n",
       "India              972\n",
       "United Kingdom     419\n",
       "Japan              245\n",
       "South Korea        199\n",
       "Name: count, dtype: int64"
      ]
     },
     "execution_count": 70,
     "metadata": {},
     "output_type": "execute_result"
    }
   ],
   "source": [
    "df['country'].value_counts().head()"
   ]
  },
  {
   "cell_type": "code",
   "execution_count": 71,
   "id": "3135a129-1540-4e9b-86b3-1cbfc21545b6",
   "metadata": {},
   "outputs": [],
   "source": [
    "country_mode = df[\"country\"].mode()[0]"
   ]
  },
  {
   "cell_type": "code",
   "execution_count": 72,
   "id": "b36a43f8-32ec-4939-9783-c8274118d3bb",
   "metadata": {},
   "outputs": [
    {
     "data": {
      "text/plain": [
       "'United States'"
      ]
     },
     "execution_count": 72,
     "metadata": {},
     "output_type": "execute_result"
    }
   ],
   "source": [
    "country_mode"
   ]
  },
  {
   "cell_type": "code",
   "execution_count": null,
   "id": "27c6db6c-fc47-48d2-bdda-975511f71e4a",
   "metadata": {},
   "outputs": [],
   "source": []
  },
  {
   "cell_type": "code",
   "execution_count": 73,
   "id": "2ceffa7b-eb9e-4692-8210-d99593374b0c",
   "metadata": {},
   "outputs": [],
   "source": [
    "df['country']=df['country'].fillna(country_mode)"
   ]
  },
  {
   "cell_type": "code",
   "execution_count": 74,
   "id": "e67eaa5e-981f-40f7-8ebe-6cf6ba6c29b6",
   "metadata": {},
   "outputs": [
    {
     "data": {
      "text/plain": [
       "0"
      ]
     },
     "execution_count": 74,
     "metadata": {},
     "output_type": "execute_result"
    }
   ],
   "source": [
    "df['country'].isna().sum()"
   ]
  },
  {
   "cell_type": "code",
   "execution_count": null,
   "id": "2b6bd409-34b9-46ae-a8dd-31cc744c27ac",
   "metadata": {},
   "outputs": [],
   "source": []
  },
  {
   "cell_type": "code",
   "execution_count": null,
   "id": "1b2556a2-94bc-473e-9d40-cad02cfa8029",
   "metadata": {},
   "outputs": [],
   "source": [
    "# date_added column"
   ]
  },
  {
   "cell_type": "code",
   "execution_count": 75,
   "id": "81b40982-a394-4a29-bc49-5092d38eb708",
   "metadata": {},
   "outputs": [
    {
     "data": {
      "text/plain": [
       "date_added\n",
       "January 1, 2020      109\n",
       "November 1, 2019      89\n",
       "March 1, 2018         75\n",
       "December 31, 2019     74\n",
       "October 1, 2018       71\n",
       "Name: count, dtype: int64"
      ]
     },
     "execution_count": 75,
     "metadata": {},
     "output_type": "execute_result"
    }
   ],
   "source": [
    "df['date_added'].value_counts().head()"
   ]
  },
  {
   "cell_type": "code",
   "execution_count": 76,
   "id": "929e42da-3b2a-4353-a7df-6ee14a9fe3bb",
   "metadata": {},
   "outputs": [],
   "source": [
    "date_added_mode = df[\"date_added\"].mode()[0]\n"
   ]
  },
  {
   "cell_type": "code",
   "execution_count": 77,
   "id": "27be10dc-ab44-479a-8a3e-1d0dfbc05390",
   "metadata": {},
   "outputs": [],
   "source": [
    "df['date_added'] = df['date_added'].fillna(date_added_mode)[0]"
   ]
  },
  {
   "cell_type": "code",
   "execution_count": 78,
   "id": "966f67b4-5571-491d-9c7f-f4ca0de54415",
   "metadata": {},
   "outputs": [
    {
     "data": {
      "text/plain": [
       "0"
      ]
     },
     "execution_count": 78,
     "metadata": {},
     "output_type": "execute_result"
    }
   ],
   "source": [
    "df['date_added'].isna().sum()"
   ]
  },
  {
   "cell_type": "code",
   "execution_count": null,
   "id": "eebd53f6-4bfe-484d-8a5c-3681519e9d0d",
   "metadata": {},
   "outputs": [],
   "source": []
  },
  {
   "cell_type": "code",
   "execution_count": 32,
   "id": "0b079be5-890a-42d3-afca-f0e8638e5396",
   "metadata": {},
   "outputs": [],
   "source": [
    "# rating column"
   ]
  },
  {
   "cell_type": "code",
   "execution_count": 79,
   "id": "52e8dde1-7066-47a7-8705-a8057819cf9b",
   "metadata": {},
   "outputs": [
    {
     "data": {
      "text/plain": [
       "rating\n",
       "TV-MA    3207\n",
       "TV-14    2160\n",
       "TV-PG     863\n",
       "R         799\n",
       "PG-13     490\n",
       "Name: count, dtype: int64"
      ]
     },
     "execution_count": 79,
     "metadata": {},
     "output_type": "execute_result"
    }
   ],
   "source": [
    "df['rating'].value_counts().head()"
   ]
  },
  {
   "cell_type": "code",
   "execution_count": 80,
   "id": "1cefc3df-da48-4f73-94a3-4bd3c6d1221b",
   "metadata": {},
   "outputs": [],
   "source": [
    "rating_mode = df['rating'].mode()[0]"
   ]
  },
  {
   "cell_type": "code",
   "execution_count": 81,
   "id": "6df55d81-c968-4446-b70e-e088ce3453db",
   "metadata": {},
   "outputs": [],
   "source": [
    "df['rating'] = df['rating'].fillna(rating_mode)"
   ]
  },
  {
   "cell_type": "code",
   "execution_count": 82,
   "id": "d1b9ef2a-b51f-4357-b711-7d30ea79c07b",
   "metadata": {},
   "outputs": [
    {
     "data": {
      "text/plain": [
       "0"
      ]
     },
     "execution_count": 82,
     "metadata": {},
     "output_type": "execute_result"
    }
   ],
   "source": [
    "df['rating'].isna().sum()"
   ]
  },
  {
   "cell_type": "code",
   "execution_count": null,
   "id": "6f2c50f7-ca09-4baf-b3ca-7a862548b408",
   "metadata": {},
   "outputs": [],
   "source": []
  },
  {
   "cell_type": "code",
   "execution_count": 37,
   "id": "058c4991-60bc-465a-99c6-2104d951d85f",
   "metadata": {},
   "outputs": [],
   "source": [
    "# duration column"
   ]
  },
  {
   "cell_type": "code",
   "execution_count": 83,
   "id": "048f2c8a-abb5-4e64-a415-39cbedebbc1c",
   "metadata": {},
   "outputs": [
    {
     "data": {
      "text/plain": [
       "duration\n",
       "1 Season     1793\n",
       "2 Seasons     425\n",
       "3 Seasons     199\n",
       "90 min        152\n",
       "94 min        146\n",
       "Name: count, dtype: int64"
      ]
     },
     "execution_count": 83,
     "metadata": {},
     "output_type": "execute_result"
    }
   ],
   "source": [
    "df['duration'].value_counts().head()"
   ]
  },
  {
   "cell_type": "code",
   "execution_count": 84,
   "id": "2c6c2b97-cc7e-4d54-afa2-99dbafe5ee63",
   "metadata": {},
   "outputs": [],
   "source": [
    "duration_mode = df['duration'].mode()[0]"
   ]
  },
  {
   "cell_type": "code",
   "execution_count": 85,
   "id": "1e631059-c61d-43ae-a77d-b4da3ed9e56a",
   "metadata": {},
   "outputs": [],
   "source": [
    "df['duration'] = df['duration'].fillna(duration_mode)"
   ]
  },
  {
   "cell_type": "code",
   "execution_count": 86,
   "id": "18172551-dffc-48de-bf72-4f6b1f3cfe91",
   "metadata": {},
   "outputs": [
    {
     "data": {
      "text/plain": [
       "0"
      ]
     },
     "execution_count": 86,
     "metadata": {},
     "output_type": "execute_result"
    }
   ],
   "source": [
    "df['duration'].isna().sum()"
   ]
  },
  {
   "cell_type": "code",
   "execution_count": null,
   "id": "8b04dfa3-b078-431b-8085-973fa4052176",
   "metadata": {},
   "outputs": [],
   "source": []
  },
  {
   "cell_type": "code",
   "execution_count": null,
   "id": "5f09364f-4a6f-495e-b14e-b04c0f62977a",
   "metadata": {},
   "outputs": [],
   "source": [
    "# director column"
   ]
  },
  {
   "cell_type": "code",
   "execution_count": 87,
   "id": "f63f7034-ebdf-4d6b-8145-a1c91e005295",
   "metadata": {},
   "outputs": [],
   "source": [
    "df['director'] = df['director'].fillna(\"Not Mentioned\")"
   ]
  },
  {
   "cell_type": "code",
   "execution_count": 88,
   "id": "6c42e002-33a8-411a-8be1-648e63810bf4",
   "metadata": {},
   "outputs": [
    {
     "data": {
      "text/plain": [
       "0"
      ]
     },
     "execution_count": 88,
     "metadata": {},
     "output_type": "execute_result"
    }
   ],
   "source": [
    "df['director'].isna().sum()"
   ]
  },
  {
   "cell_type": "code",
   "execution_count": null,
   "id": "5bcd51fa-eb46-4724-98a2-0de14f2f1f3a",
   "metadata": {},
   "outputs": [],
   "source": []
  },
  {
   "cell_type": "code",
   "execution_count": null,
   "id": "81793e87-b5c2-4fa9-888b-917b66586d02",
   "metadata": {},
   "outputs": [],
   "source": [
    "# cast column"
   ]
  },
  {
   "cell_type": "code",
   "execution_count": 89,
   "id": "3f804f31-800f-4393-b8bc-53cfa323c6a3",
   "metadata": {},
   "outputs": [],
   "source": [
    "df['cast'] = df['cast'].fillna(\"Not Mentioned\")"
   ]
  },
  {
   "cell_type": "code",
   "execution_count": 90,
   "id": "702ff124-6858-4ef1-8bcf-be78b6e1fcbf",
   "metadata": {},
   "outputs": [
    {
     "data": {
      "text/plain": [
       "0"
      ]
     },
     "execution_count": 90,
     "metadata": {},
     "output_type": "execute_result"
    }
   ],
   "source": [
    "df['cast'].isna().sum()"
   ]
  },
  {
   "cell_type": "code",
   "execution_count": null,
   "id": "8d961e00-7650-4863-a4a1-f0482aa7dfcc",
   "metadata": {},
   "outputs": [],
   "source": []
  },
  {
   "cell_type": "code",
   "execution_count": null,
   "id": "87526562-a40b-4446-a7e8-bb46f064fee9",
   "metadata": {},
   "outputs": [],
   "source": []
  },
  {
   "cell_type": "code",
   "execution_count": 96,
   "id": "b868838d-8bd4-4897-a906-12f69a801f0e",
   "metadata": {},
   "outputs": [
    {
     "data": {
      "text/plain": [
       "array(['PG-13', 'TV-MA', 'PG', 'TV-14', 'TV-PG', 'TV-Y', 'TV-Y7', 'R',\n",
       "       'TV-G', 'G', 'NC-17', '74 min', '84 min', '66 min', 'NR',\n",
       "       'TV-Y7-FV', 'UR'], dtype=object)"
      ]
     },
     "execution_count": 96,
     "metadata": {},
     "output_type": "execute_result"
    }
   ],
   "source": [
    "df['rating'].unique()"
   ]
  },
  {
   "cell_type": "code",
   "execution_count": null,
   "id": "704653b6-b86b-41ab-bad5-cd2a782ad3e5",
   "metadata": {},
   "outputs": [],
   "source": []
  },
  {
   "cell_type": "code",
   "execution_count": 97,
   "id": "4628380b-b58b-480d-836e-5459d0ad8973",
   "metadata": {},
   "outputs": [],
   "source": [
    "df=df[~df['rating'].str.contains('min')]"
   ]
  },
  {
   "cell_type": "code",
   "execution_count": 98,
   "id": "be188fc7-5ef5-408e-9436-a92fefff380d",
   "metadata": {},
   "outputs": [
    {
     "data": {
      "text/plain": [
       "array(['PG-13', 'TV-MA', 'PG', 'TV-14', 'TV-PG', 'TV-Y', 'TV-Y7', 'R',\n",
       "       'TV-G', 'G', 'NC-17', 'NR', 'TV-Y7-FV', 'UR'], dtype=object)"
      ]
     },
     "execution_count": 98,
     "metadata": {},
     "output_type": "execute_result"
    }
   ],
   "source": [
    "df[\"rating\"].unique()"
   ]
  },
  {
   "cell_type": "code",
   "execution_count": 99,
   "id": "d7cbe6e4-8371-4a16-9b2c-feb7e0c6e579",
   "metadata": {},
   "outputs": [
    {
     "name": "stderr",
     "output_type": "stream",
     "text": [
      "C:\\Users\\91992\\AppData\\Local\\Temp\\ipykernel_19492\\2910175374.py:1: SettingWithCopyWarning: \n",
      "A value is trying to be set on a copy of a slice from a DataFrame.\n",
      "Try using .loc[row_indexer,col_indexer] = value instead\n",
      "\n",
      "See the caveats in the documentation: https://pandas.pydata.org/pandas-docs/stable/user_guide/indexing.html#returning-a-view-versus-a-copy\n",
      "  df[\"date_added\"] = df[\"date_added\"].str.replace(\",\",\"\")\n"
     ]
    }
   ],
   "source": [
    "df[\"date_added\"] = df[\"date_added\"].str.replace(\",\",\"\")"
   ]
  },
  {
   "cell_type": "code",
   "execution_count": 100,
   "id": "cff93f91-3d21-4e34-877c-2d0765fbd084",
   "metadata": {},
   "outputs": [
    {
     "data": {
      "text/plain": [
       "0    September 25 2021\n",
       "1    September 25 2021\n",
       "2    September 25 2021\n",
       "Name: date_added, dtype: object"
      ]
     },
     "execution_count": 100,
     "metadata": {},
     "output_type": "execute_result"
    }
   ],
   "source": [
    "df['date_added'].head(3)"
   ]
  },
  {
   "cell_type": "code",
   "execution_count": 101,
   "id": "b33b7939-cd76-4e7a-8613-7096ab6779b4",
   "metadata": {},
   "outputs": [
    {
     "name": "stderr",
     "output_type": "stream",
     "text": [
      "C:\\Users\\91992\\AppData\\Local\\Temp\\ipykernel_19492\\3719581561.py:1: SettingWithCopyWarning: \n",
      "A value is trying to be set on a copy of a slice from a DataFrame.\n",
      "Try using .loc[row_indexer,col_indexer] = value instead\n",
      "\n",
      "See the caveats in the documentation: https://pandas.pydata.org/pandas-docs/stable/user_guide/indexing.html#returning-a-view-versus-a-copy\n",
      "  df['date_added']=pd.to_datetime(df['date_added'],format='mixed')\n"
     ]
    },
    {
     "data": {
      "text/plain": [
       "0   2021-09-25\n",
       "1   2021-09-25\n",
       "2   2021-09-25\n",
       "Name: date_added, dtype: datetime64[ns]"
      ]
     },
     "execution_count": 101,
     "metadata": {},
     "output_type": "execute_result"
    }
   ],
   "source": [
    "df['date_added']=pd.to_datetime(df['date_added'],format='mixed')\n",
    "df['date_added'].head(3)"
   ]
  },
  {
   "cell_type": "code",
   "execution_count": null,
   "id": "bdca1f59-e642-4d43-b42c-ada536d97621",
   "metadata": {},
   "outputs": [],
   "source": []
  },
  {
   "cell_type": "code",
   "execution_count": 102,
   "id": "0cbf6a32-1cd7-4858-8800-910ee6d0d431",
   "metadata": {},
   "outputs": [
    {
     "name": "stderr",
     "output_type": "stream",
     "text": [
      "C:\\Users\\91992\\AppData\\Local\\Temp\\ipykernel_19492\\1113037496.py:1: SettingWithCopyWarning: \n",
      "A value is trying to be set on a copy of a slice from a DataFrame.\n",
      "Try using .loc[row_indexer,col_indexer] = value instead\n",
      "\n",
      "See the caveats in the documentation: https://pandas.pydata.org/pandas-docs/stable/user_guide/indexing.html#returning-a-view-versus-a-copy\n",
      "  df['Date'] =df['date_added'].dt.day\n"
     ]
    }
   ],
   "source": [
    "df['Date'] =df['date_added'].dt.day "
   ]
  },
  {
   "cell_type": "code",
   "execution_count": 103,
   "id": "fde59fde-f9d2-41d6-9894-72b0165f69b9",
   "metadata": {},
   "outputs": [
    {
     "name": "stderr",
     "output_type": "stream",
     "text": [
      "C:\\Users\\91992\\AppData\\Local\\Temp\\ipykernel_19492\\4214562266.py:1: SettingWithCopyWarning: \n",
      "A value is trying to be set on a copy of a slice from a DataFrame.\n",
      "Try using .loc[row_indexer,col_indexer] = value instead\n",
      "\n",
      "See the caveats in the documentation: https://pandas.pydata.org/pandas-docs/stable/user_guide/indexing.html#returning-a-view-versus-a-copy\n",
      "  df['year'] = df['date_added'].dt.year\n"
     ]
    }
   ],
   "source": [
    "df['year'] = df['date_added'].dt.year"
   ]
  },
  {
   "cell_type": "code",
   "execution_count": 104,
   "id": "494e9e48-0dc2-4897-8143-e3f330049fc4",
   "metadata": {},
   "outputs": [
    {
     "name": "stderr",
     "output_type": "stream",
     "text": [
      "C:\\Users\\91992\\AppData\\Local\\Temp\\ipykernel_19492\\3490486593.py:1: SettingWithCopyWarning: \n",
      "A value is trying to be set on a copy of a slice from a DataFrame.\n",
      "Try using .loc[row_indexer,col_indexer] = value instead\n",
      "\n",
      "See the caveats in the documentation: https://pandas.pydata.org/pandas-docs/stable/user_guide/indexing.html#returning-a-view-versus-a-copy\n",
      "  df['month']= df['date_added'].dt.month_name()\n"
     ]
    }
   ],
   "source": [
    "df['month']= df['date_added'].dt.month_name()"
   ]
  },
  {
   "cell_type": "code",
   "execution_count": 105,
   "id": "a1a0cc8d-cecc-4ceb-a5ea-4174cfdef866",
   "metadata": {},
   "outputs": [
    {
     "data": {
      "text/html": [
       "<div>\n",
       "<style scoped>\n",
       "    .dataframe tbody tr th:only-of-type {\n",
       "        vertical-align: middle;\n",
       "    }\n",
       "\n",
       "    .dataframe tbody tr th {\n",
       "        vertical-align: top;\n",
       "    }\n",
       "\n",
       "    .dataframe thead th {\n",
       "        text-align: right;\n",
       "    }\n",
       "</style>\n",
       "<table border=\"1\" class=\"dataframe\">\n",
       "  <thead>\n",
       "    <tr style=\"text-align: right;\">\n",
       "      <th></th>\n",
       "      <th>type</th>\n",
       "      <th>title</th>\n",
       "      <th>director</th>\n",
       "      <th>cast</th>\n",
       "      <th>country</th>\n",
       "      <th>date_added</th>\n",
       "      <th>release_year</th>\n",
       "      <th>rating</th>\n",
       "      <th>duration</th>\n",
       "      <th>listed_in</th>\n",
       "      <th>Date</th>\n",
       "      <th>year</th>\n",
       "      <th>month</th>\n",
       "    </tr>\n",
       "  </thead>\n",
       "  <tbody>\n",
       "    <tr>\n",
       "      <th>0</th>\n",
       "      <td>Movie</td>\n",
       "      <td>Dick Johnson Is Dead</td>\n",
       "      <td>Kirsten Johnson</td>\n",
       "      <td>Not Mentioned</td>\n",
       "      <td>United States</td>\n",
       "      <td>2021-09-25</td>\n",
       "      <td>2020</td>\n",
       "      <td>PG-13</td>\n",
       "      <td>90 min</td>\n",
       "      <td>Documentaries</td>\n",
       "      <td>25</td>\n",
       "      <td>2021</td>\n",
       "      <td>September</td>\n",
       "    </tr>\n",
       "    <tr>\n",
       "      <th>1</th>\n",
       "      <td>TV Show</td>\n",
       "      <td>Blood &amp; Water</td>\n",
       "      <td>Not Mentioned</td>\n",
       "      <td>Ama Qamata, Khosi Ngema, Gail Mabalane, Thaban...</td>\n",
       "      <td>South Africa</td>\n",
       "      <td>2021-09-25</td>\n",
       "      <td>2021</td>\n",
       "      <td>TV-MA</td>\n",
       "      <td>2 Seasons</td>\n",
       "      <td>International TV Shows, TV Dramas, TV Mysteries</td>\n",
       "      <td>25</td>\n",
       "      <td>2021</td>\n",
       "      <td>September</td>\n",
       "    </tr>\n",
       "    <tr>\n",
       "      <th>2</th>\n",
       "      <td>TV Show</td>\n",
       "      <td>Ganglands</td>\n",
       "      <td>Julien Leclercq</td>\n",
       "      <td>Sami Bouajila, Tracy Gotoas, Samuel Jouy, Nabi...</td>\n",
       "      <td>United States</td>\n",
       "      <td>2021-09-25</td>\n",
       "      <td>2021</td>\n",
       "      <td>TV-MA</td>\n",
       "      <td>1 Season</td>\n",
       "      <td>Crime TV Shows, International TV Shows, TV Act...</td>\n",
       "      <td>25</td>\n",
       "      <td>2021</td>\n",
       "      <td>September</td>\n",
       "    </tr>\n",
       "    <tr>\n",
       "      <th>3</th>\n",
       "      <td>TV Show</td>\n",
       "      <td>Jailbirds New Orleans</td>\n",
       "      <td>Not Mentioned</td>\n",
       "      <td>Not Mentioned</td>\n",
       "      <td>United States</td>\n",
       "      <td>2021-09-25</td>\n",
       "      <td>2021</td>\n",
       "      <td>TV-MA</td>\n",
       "      <td>1 Season</td>\n",
       "      <td>Docuseries, Reality TV</td>\n",
       "      <td>25</td>\n",
       "      <td>2021</td>\n",
       "      <td>September</td>\n",
       "    </tr>\n",
       "    <tr>\n",
       "      <th>4</th>\n",
       "      <td>TV Show</td>\n",
       "      <td>Kota Factory</td>\n",
       "      <td>Not Mentioned</td>\n",
       "      <td>Mayur More, Jitendra Kumar, Ranjan Raj, Alam K...</td>\n",
       "      <td>India</td>\n",
       "      <td>2021-09-25</td>\n",
       "      <td>2021</td>\n",
       "      <td>TV-MA</td>\n",
       "      <td>2 Seasons</td>\n",
       "      <td>International TV Shows, Romantic TV Shows, TV ...</td>\n",
       "      <td>25</td>\n",
       "      <td>2021</td>\n",
       "      <td>September</td>\n",
       "    </tr>\n",
       "  </tbody>\n",
       "</table>\n",
       "</div>"
      ],
      "text/plain": [
       "      type                  title         director  \\\n",
       "0    Movie   Dick Johnson Is Dead  Kirsten Johnson   \n",
       "1  TV Show          Blood & Water    Not Mentioned   \n",
       "2  TV Show              Ganglands  Julien Leclercq   \n",
       "3  TV Show  Jailbirds New Orleans    Not Mentioned   \n",
       "4  TV Show           Kota Factory    Not Mentioned   \n",
       "\n",
       "                                                cast        country  \\\n",
       "0                                      Not Mentioned  United States   \n",
       "1  Ama Qamata, Khosi Ngema, Gail Mabalane, Thaban...   South Africa   \n",
       "2  Sami Bouajila, Tracy Gotoas, Samuel Jouy, Nabi...  United States   \n",
       "3                                      Not Mentioned  United States   \n",
       "4  Mayur More, Jitendra Kumar, Ranjan Raj, Alam K...          India   \n",
       "\n",
       "  date_added  release_year rating   duration  \\\n",
       "0 2021-09-25          2020  PG-13     90 min   \n",
       "1 2021-09-25          2021  TV-MA  2 Seasons   \n",
       "2 2021-09-25          2021  TV-MA   1 Season   \n",
       "3 2021-09-25          2021  TV-MA   1 Season   \n",
       "4 2021-09-25          2021  TV-MA  2 Seasons   \n",
       "\n",
       "                                           listed_in  Date  year      month  \n",
       "0                                      Documentaries    25  2021  September  \n",
       "1    International TV Shows, TV Dramas, TV Mysteries    25  2021  September  \n",
       "2  Crime TV Shows, International TV Shows, TV Act...    25  2021  September  \n",
       "3                             Docuseries, Reality TV    25  2021  September  \n",
       "4  International TV Shows, Romantic TV Shows, TV ...    25  2021  September  "
      ]
     },
     "execution_count": 105,
     "metadata": {},
     "output_type": "execute_result"
    }
   ],
   "source": [
    "df.head()"
   ]
  },
  {
   "cell_type": "code",
   "execution_count": null,
   "id": "69d4bd41-a0ea-4dd2-8705-eaa9ce921fef",
   "metadata": {},
   "outputs": [],
   "source": []
  },
  {
   "cell_type": "code",
   "execution_count": 106,
   "id": "c8867084-f431-4f24-96c0-4b11e34a6415",
   "metadata": {},
   "outputs": [
    {
     "name": "stderr",
     "output_type": "stream",
     "text": [
      "C:\\Users\\91992\\AppData\\Local\\Temp\\ipykernel_19492\\3961856567.py:1: SettingWithCopyWarning: \n",
      "A value is trying to be set on a copy of a slice from a DataFrame.\n",
      "Try using .loc[row_indexer,col_indexer] = value instead\n",
      "\n",
      "See the caveats in the documentation: https://pandas.pydata.org/pandas-docs/stable/user_guide/indexing.html#returning-a-view-versus-a-copy\n",
      "  df['genre']=df['listed_in'].str.split(',').str[0]\n"
     ]
    }
   ],
   "source": [
    "df['genre']=df['listed_in'].str.split(',').str[0]"
   ]
  },
  {
   "cell_type": "code",
   "execution_count": 107,
   "id": "7fba6a3c-b419-4b1b-b86f-6c0ad872507a",
   "metadata": {},
   "outputs": [
    {
     "data": {
      "text/plain": [
       "0             Documentaries\n",
       "1    International TV Shows\n",
       "2            Crime TV Shows\n",
       "3                Docuseries\n",
       "4    International TV Shows\n",
       "Name: genre, dtype: object"
      ]
     },
     "execution_count": 107,
     "metadata": {},
     "output_type": "execute_result"
    }
   ],
   "source": [
    "df['genre'].head(5)"
   ]
  },
  {
   "cell_type": "code",
   "execution_count": null,
   "id": "a7c6c336-66da-456d-a399-6e09a885fc99",
   "metadata": {},
   "outputs": [],
   "source": []
  },
  {
   "cell_type": "code",
   "execution_count": 108,
   "id": "6ebccae7-733e-4266-859e-15514a1a6222",
   "metadata": {},
   "outputs": [
    {
     "data": {
      "text/html": [
       "<div>\n",
       "<style scoped>\n",
       "    .dataframe tbody tr th:only-of-type {\n",
       "        vertical-align: middle;\n",
       "    }\n",
       "\n",
       "    .dataframe tbody tr th {\n",
       "        vertical-align: top;\n",
       "    }\n",
       "\n",
       "    .dataframe thead th {\n",
       "        text-align: right;\n",
       "    }\n",
       "</style>\n",
       "<table border=\"1\" class=\"dataframe\">\n",
       "  <thead>\n",
       "    <tr style=\"text-align: right;\">\n",
       "      <th></th>\n",
       "      <th>type</th>\n",
       "      <th>title</th>\n",
       "      <th>director</th>\n",
       "      <th>cast</th>\n",
       "      <th>country</th>\n",
       "      <th>date_added</th>\n",
       "      <th>release_year</th>\n",
       "      <th>rating</th>\n",
       "      <th>duration</th>\n",
       "      <th>listed_in</th>\n",
       "      <th>Date</th>\n",
       "      <th>year</th>\n",
       "      <th>month</th>\n",
       "      <th>genre</th>\n",
       "    </tr>\n",
       "  </thead>\n",
       "  <tbody>\n",
       "    <tr>\n",
       "      <th>0</th>\n",
       "      <td>Movie</td>\n",
       "      <td>Dick Johnson Is Dead</td>\n",
       "      <td>Kirsten Johnson</td>\n",
       "      <td>Not Mentioned</td>\n",
       "      <td>United States</td>\n",
       "      <td>2021-09-25</td>\n",
       "      <td>2020</td>\n",
       "      <td>PG-13</td>\n",
       "      <td>90 min</td>\n",
       "      <td>Documentaries</td>\n",
       "      <td>25</td>\n",
       "      <td>2021</td>\n",
       "      <td>September</td>\n",
       "      <td>Documentaries</td>\n",
       "    </tr>\n",
       "    <tr>\n",
       "      <th>1</th>\n",
       "      <td>TV Show</td>\n",
       "      <td>Blood &amp; Water</td>\n",
       "      <td>Not Mentioned</td>\n",
       "      <td>Ama Qamata, Khosi Ngema, Gail Mabalane, Thaban...</td>\n",
       "      <td>South Africa</td>\n",
       "      <td>2021-09-25</td>\n",
       "      <td>2021</td>\n",
       "      <td>TV-MA</td>\n",
       "      <td>2 Seasons</td>\n",
       "      <td>International TV Shows, TV Dramas, TV Mysteries</td>\n",
       "      <td>25</td>\n",
       "      <td>2021</td>\n",
       "      <td>September</td>\n",
       "      <td>International TV Shows</td>\n",
       "    </tr>\n",
       "    <tr>\n",
       "      <th>2</th>\n",
       "      <td>TV Show</td>\n",
       "      <td>Ganglands</td>\n",
       "      <td>Julien Leclercq</td>\n",
       "      <td>Sami Bouajila, Tracy Gotoas, Samuel Jouy, Nabi...</td>\n",
       "      <td>United States</td>\n",
       "      <td>2021-09-25</td>\n",
       "      <td>2021</td>\n",
       "      <td>TV-MA</td>\n",
       "      <td>1 Season</td>\n",
       "      <td>Crime TV Shows, International TV Shows, TV Act...</td>\n",
       "      <td>25</td>\n",
       "      <td>2021</td>\n",
       "      <td>September</td>\n",
       "      <td>Crime TV Shows</td>\n",
       "    </tr>\n",
       "    <tr>\n",
       "      <th>3</th>\n",
       "      <td>TV Show</td>\n",
       "      <td>Jailbirds New Orleans</td>\n",
       "      <td>Not Mentioned</td>\n",
       "      <td>Not Mentioned</td>\n",
       "      <td>United States</td>\n",
       "      <td>2021-09-25</td>\n",
       "      <td>2021</td>\n",
       "      <td>TV-MA</td>\n",
       "      <td>1 Season</td>\n",
       "      <td>Docuseries, Reality TV</td>\n",
       "      <td>25</td>\n",
       "      <td>2021</td>\n",
       "      <td>September</td>\n",
       "      <td>Docuseries</td>\n",
       "    </tr>\n",
       "    <tr>\n",
       "      <th>4</th>\n",
       "      <td>TV Show</td>\n",
       "      <td>Kota Factory</td>\n",
       "      <td>Not Mentioned</td>\n",
       "      <td>Mayur More, Jitendra Kumar, Ranjan Raj, Alam K...</td>\n",
       "      <td>India</td>\n",
       "      <td>2021-09-25</td>\n",
       "      <td>2021</td>\n",
       "      <td>TV-MA</td>\n",
       "      <td>2 Seasons</td>\n",
       "      <td>International TV Shows, Romantic TV Shows, TV ...</td>\n",
       "      <td>25</td>\n",
       "      <td>2021</td>\n",
       "      <td>September</td>\n",
       "      <td>International TV Shows</td>\n",
       "    </tr>\n",
       "  </tbody>\n",
       "</table>\n",
       "</div>"
      ],
      "text/plain": [
       "      type                  title         director  \\\n",
       "0    Movie   Dick Johnson Is Dead  Kirsten Johnson   \n",
       "1  TV Show          Blood & Water    Not Mentioned   \n",
       "2  TV Show              Ganglands  Julien Leclercq   \n",
       "3  TV Show  Jailbirds New Orleans    Not Mentioned   \n",
       "4  TV Show           Kota Factory    Not Mentioned   \n",
       "\n",
       "                                                cast        country  \\\n",
       "0                                      Not Mentioned  United States   \n",
       "1  Ama Qamata, Khosi Ngema, Gail Mabalane, Thaban...   South Africa   \n",
       "2  Sami Bouajila, Tracy Gotoas, Samuel Jouy, Nabi...  United States   \n",
       "3                                      Not Mentioned  United States   \n",
       "4  Mayur More, Jitendra Kumar, Ranjan Raj, Alam K...          India   \n",
       "\n",
       "  date_added  release_year rating   duration  \\\n",
       "0 2021-09-25          2020  PG-13     90 min   \n",
       "1 2021-09-25          2021  TV-MA  2 Seasons   \n",
       "2 2021-09-25          2021  TV-MA   1 Season   \n",
       "3 2021-09-25          2021  TV-MA   1 Season   \n",
       "4 2021-09-25          2021  TV-MA  2 Seasons   \n",
       "\n",
       "                                           listed_in  Date  year      month  \\\n",
       "0                                      Documentaries    25  2021  September   \n",
       "1    International TV Shows, TV Dramas, TV Mysteries    25  2021  September   \n",
       "2  Crime TV Shows, International TV Shows, TV Act...    25  2021  September   \n",
       "3                             Docuseries, Reality TV    25  2021  September   \n",
       "4  International TV Shows, Romantic TV Shows, TV ...    25  2021  September   \n",
       "\n",
       "                    genre  \n",
       "0           Documentaries  \n",
       "1  International TV Shows  \n",
       "2          Crime TV Shows  \n",
       "3              Docuseries  \n",
       "4  International TV Shows  "
      ]
     },
     "execution_count": 108,
     "metadata": {},
     "output_type": "execute_result"
    }
   ],
   "source": [
    "df.head()"
   ]
  },
  {
   "cell_type": "code",
   "execution_count": null,
   "id": "4001a84d-9b74-4b65-a06d-9317de17812b",
   "metadata": {},
   "outputs": [],
   "source": []
  },
  {
   "cell_type": "code",
   "execution_count": 110,
   "id": "d28450dc-2893-4dce-ba2b-3c209f2a9ea6",
   "metadata": {},
   "outputs": [],
   "source": [
    "df=df[df['cast']!=\"Not Mentioned\"]"
   ]
  },
  {
   "cell_type": "code",
   "execution_count": 111,
   "id": "534c57bf-aefd-4e88-85d8-135749a0b62c",
   "metadata": {},
   "outputs": [],
   "source": [
    "df['lead_actor']=df['cast'].str.split(',').str[0]"
   ]
  },
  {
   "cell_type": "code",
   "execution_count": 114,
   "id": "9a318bfd-4fe8-4138-8dac-8d6d6d9c002c",
   "metadata": {},
   "outputs": [
    {
     "data": {
      "text/plain": [
       "lead_actor\n",
       "Shah Rukh Khan        26\n",
       "Akshay Kumar          23\n",
       "David Attenborough    20\n",
       "Adam Sandler          20\n",
       "Amitabh Bachchan      20\n",
       "Name: count, dtype: int64"
      ]
     },
     "execution_count": 114,
     "metadata": {},
     "output_type": "execute_result"
    }
   ],
   "source": [
    "df['lead_actor'].value_counts().head(5)"
   ]
  },
  {
   "cell_type": "code",
   "execution_count": null,
   "id": "c9b4b9df-aff9-4eff-a4dc-e07ebe922101",
   "metadata": {},
   "outputs": [],
   "source": []
  },
  {
   "cell_type": "code",
   "execution_count": 115,
   "id": "6cac1e9f-8b87-4419-beb2-247498d12076",
   "metadata": {},
   "outputs": [
    {
     "data": {
      "text/html": [
       "<div>\n",
       "<style scoped>\n",
       "    .dataframe tbody tr th:only-of-type {\n",
       "        vertical-align: middle;\n",
       "    }\n",
       "\n",
       "    .dataframe tbody tr th {\n",
       "        vertical-align: top;\n",
       "    }\n",
       "\n",
       "    .dataframe thead th {\n",
       "        text-align: right;\n",
       "    }\n",
       "</style>\n",
       "<table border=\"1\" class=\"dataframe\">\n",
       "  <thead>\n",
       "    <tr style=\"text-align: right;\">\n",
       "      <th></th>\n",
       "      <th>type</th>\n",
       "      <th>title</th>\n",
       "      <th>director</th>\n",
       "      <th>cast</th>\n",
       "      <th>country</th>\n",
       "      <th>date_added</th>\n",
       "      <th>release_year</th>\n",
       "      <th>rating</th>\n",
       "      <th>duration</th>\n",
       "      <th>listed_in</th>\n",
       "      <th>Date</th>\n",
       "      <th>year</th>\n",
       "      <th>month</th>\n",
       "      <th>genre</th>\n",
       "      <th>lead_actor</th>\n",
       "    </tr>\n",
       "  </thead>\n",
       "  <tbody>\n",
       "    <tr>\n",
       "      <th>1</th>\n",
       "      <td>TV Show</td>\n",
       "      <td>Blood &amp; Water</td>\n",
       "      <td>Not Mentioned</td>\n",
       "      <td>Ama Qamata, Khosi Ngema, Gail Mabalane, Thaban...</td>\n",
       "      <td>South Africa</td>\n",
       "      <td>2021-09-25</td>\n",
       "      <td>2021</td>\n",
       "      <td>TV-MA</td>\n",
       "      <td>2 Seasons</td>\n",
       "      <td>International TV Shows, TV Dramas, TV Mysteries</td>\n",
       "      <td>25</td>\n",
       "      <td>2021</td>\n",
       "      <td>September</td>\n",
       "      <td>International TV Shows</td>\n",
       "      <td>Ama Qamata</td>\n",
       "    </tr>\n",
       "    <tr>\n",
       "      <th>2</th>\n",
       "      <td>TV Show</td>\n",
       "      <td>Ganglands</td>\n",
       "      <td>Julien Leclercq</td>\n",
       "      <td>Sami Bouajila, Tracy Gotoas, Samuel Jouy, Nabi...</td>\n",
       "      <td>United States</td>\n",
       "      <td>2021-09-25</td>\n",
       "      <td>2021</td>\n",
       "      <td>TV-MA</td>\n",
       "      <td>1 Season</td>\n",
       "      <td>Crime TV Shows, International TV Shows, TV Act...</td>\n",
       "      <td>25</td>\n",
       "      <td>2021</td>\n",
       "      <td>September</td>\n",
       "      <td>Crime TV Shows</td>\n",
       "      <td>Sami Bouajila</td>\n",
       "    </tr>\n",
       "    <tr>\n",
       "      <th>4</th>\n",
       "      <td>TV Show</td>\n",
       "      <td>Kota Factory</td>\n",
       "      <td>Not Mentioned</td>\n",
       "      <td>Mayur More, Jitendra Kumar, Ranjan Raj, Alam K...</td>\n",
       "      <td>India</td>\n",
       "      <td>2021-09-25</td>\n",
       "      <td>2021</td>\n",
       "      <td>TV-MA</td>\n",
       "      <td>2 Seasons</td>\n",
       "      <td>International TV Shows, Romantic TV Shows, TV ...</td>\n",
       "      <td>25</td>\n",
       "      <td>2021</td>\n",
       "      <td>September</td>\n",
       "      <td>International TV Shows</td>\n",
       "      <td>Mayur More</td>\n",
       "    </tr>\n",
       "    <tr>\n",
       "      <th>5</th>\n",
       "      <td>TV Show</td>\n",
       "      <td>Midnight Mass</td>\n",
       "      <td>Mike Flanagan</td>\n",
       "      <td>Kate Siegel, Zach Gilford, Hamish Linklater, H...</td>\n",
       "      <td>United States</td>\n",
       "      <td>2021-09-25</td>\n",
       "      <td>2021</td>\n",
       "      <td>TV-MA</td>\n",
       "      <td>1 Season</td>\n",
       "      <td>TV Dramas, TV Horror, TV Mysteries</td>\n",
       "      <td>25</td>\n",
       "      <td>2021</td>\n",
       "      <td>September</td>\n",
       "      <td>TV Dramas</td>\n",
       "      <td>Kate Siegel</td>\n",
       "    </tr>\n",
       "    <tr>\n",
       "      <th>6</th>\n",
       "      <td>Movie</td>\n",
       "      <td>My Little Pony: A New Generation</td>\n",
       "      <td>Robert Cullen, José Luis Ucha</td>\n",
       "      <td>Vanessa Hudgens, Kimiko Glenn, James Marsden, ...</td>\n",
       "      <td>United States</td>\n",
       "      <td>2021-09-25</td>\n",
       "      <td>2021</td>\n",
       "      <td>PG</td>\n",
       "      <td>91 min</td>\n",
       "      <td>Children &amp; Family Movies</td>\n",
       "      <td>25</td>\n",
       "      <td>2021</td>\n",
       "      <td>September</td>\n",
       "      <td>Children &amp; Family Movies</td>\n",
       "      <td>Vanessa Hudgens</td>\n",
       "    </tr>\n",
       "  </tbody>\n",
       "</table>\n",
       "</div>"
      ],
      "text/plain": [
       "      type                             title                       director  \\\n",
       "1  TV Show                     Blood & Water                  Not Mentioned   \n",
       "2  TV Show                         Ganglands                Julien Leclercq   \n",
       "4  TV Show                      Kota Factory                  Not Mentioned   \n",
       "5  TV Show                     Midnight Mass                  Mike Flanagan   \n",
       "6    Movie  My Little Pony: A New Generation  Robert Cullen, José Luis Ucha   \n",
       "\n",
       "                                                cast        country  \\\n",
       "1  Ama Qamata, Khosi Ngema, Gail Mabalane, Thaban...   South Africa   \n",
       "2  Sami Bouajila, Tracy Gotoas, Samuel Jouy, Nabi...  United States   \n",
       "4  Mayur More, Jitendra Kumar, Ranjan Raj, Alam K...          India   \n",
       "5  Kate Siegel, Zach Gilford, Hamish Linklater, H...  United States   \n",
       "6  Vanessa Hudgens, Kimiko Glenn, James Marsden, ...  United States   \n",
       "\n",
       "  date_added  release_year rating   duration  \\\n",
       "1 2021-09-25          2021  TV-MA  2 Seasons   \n",
       "2 2021-09-25          2021  TV-MA   1 Season   \n",
       "4 2021-09-25          2021  TV-MA  2 Seasons   \n",
       "5 2021-09-25          2021  TV-MA   1 Season   \n",
       "6 2021-09-25          2021     PG     91 min   \n",
       "\n",
       "                                           listed_in  Date  year      month  \\\n",
       "1    International TV Shows, TV Dramas, TV Mysteries    25  2021  September   \n",
       "2  Crime TV Shows, International TV Shows, TV Act...    25  2021  September   \n",
       "4  International TV Shows, Romantic TV Shows, TV ...    25  2021  September   \n",
       "5                 TV Dramas, TV Horror, TV Mysteries    25  2021  September   \n",
       "6                           Children & Family Movies    25  2021  September   \n",
       "\n",
       "                      genre       lead_actor  \n",
       "1    International TV Shows       Ama Qamata  \n",
       "2            Crime TV Shows    Sami Bouajila  \n",
       "4    International TV Shows       Mayur More  \n",
       "5                 TV Dramas      Kate Siegel  \n",
       "6  Children & Family Movies  Vanessa Hudgens  "
      ]
     },
     "execution_count": 115,
     "metadata": {},
     "output_type": "execute_result"
    }
   ],
   "source": [
    "df.head()"
   ]
  },
  {
   "cell_type": "code",
   "execution_count": null,
   "id": "84f610d4-be83-40b2-a8ab-41bedb62c569",
   "metadata": {},
   "outputs": [],
   "source": []
  },
  {
   "cell_type": "code",
   "execution_count": null,
   "id": "f84b430d-6888-4949-8562-d895d5dc5d3d",
   "metadata": {},
   "outputs": [],
   "source": []
  },
  {
   "cell_type": "code",
   "execution_count": 116,
   "id": "c4a0525f-b25b-4c19-acee-fa0f328552b1",
   "metadata": {},
   "outputs": [],
   "source": [
    "# Dropping date_added, listed_in and cast column"
   ]
  },
  {
   "cell_type": "code",
   "execution_count": 118,
   "id": "b3948423-f7fe-4652-b6c4-73ebeeec247d",
   "metadata": {},
   "outputs": [],
   "source": [
    "df.drop(['cast','listed_in','date_added'],inplace=True,axis=1)"
   ]
  },
  {
   "cell_type": "code",
   "execution_count": 119,
   "id": "9c944882-398f-4a5d-a7b8-e3826ccd8855",
   "metadata": {},
   "outputs": [
    {
     "data": {
      "text/html": [
       "<div>\n",
       "<style scoped>\n",
       "    .dataframe tbody tr th:only-of-type {\n",
       "        vertical-align: middle;\n",
       "    }\n",
       "\n",
       "    .dataframe tbody tr th {\n",
       "        vertical-align: top;\n",
       "    }\n",
       "\n",
       "    .dataframe thead th {\n",
       "        text-align: right;\n",
       "    }\n",
       "</style>\n",
       "<table border=\"1\" class=\"dataframe\">\n",
       "  <thead>\n",
       "    <tr style=\"text-align: right;\">\n",
       "      <th></th>\n",
       "      <th>type</th>\n",
       "      <th>title</th>\n",
       "      <th>director</th>\n",
       "      <th>country</th>\n",
       "      <th>release_year</th>\n",
       "      <th>rating</th>\n",
       "      <th>duration</th>\n",
       "      <th>Date</th>\n",
       "      <th>year</th>\n",
       "      <th>month</th>\n",
       "      <th>genre</th>\n",
       "      <th>lead_actor</th>\n",
       "    </tr>\n",
       "  </thead>\n",
       "  <tbody>\n",
       "    <tr>\n",
       "      <th>1</th>\n",
       "      <td>TV Show</td>\n",
       "      <td>Blood &amp; Water</td>\n",
       "      <td>Not Mentioned</td>\n",
       "      <td>South Africa</td>\n",
       "      <td>2021</td>\n",
       "      <td>TV-MA</td>\n",
       "      <td>2 Seasons</td>\n",
       "      <td>25</td>\n",
       "      <td>2021</td>\n",
       "      <td>September</td>\n",
       "      <td>International TV Shows</td>\n",
       "      <td>Ama Qamata</td>\n",
       "    </tr>\n",
       "    <tr>\n",
       "      <th>2</th>\n",
       "      <td>TV Show</td>\n",
       "      <td>Ganglands</td>\n",
       "      <td>Julien Leclercq</td>\n",
       "      <td>United States</td>\n",
       "      <td>2021</td>\n",
       "      <td>TV-MA</td>\n",
       "      <td>1 Season</td>\n",
       "      <td>25</td>\n",
       "      <td>2021</td>\n",
       "      <td>September</td>\n",
       "      <td>Crime TV Shows</td>\n",
       "      <td>Sami Bouajila</td>\n",
       "    </tr>\n",
       "    <tr>\n",
       "      <th>4</th>\n",
       "      <td>TV Show</td>\n",
       "      <td>Kota Factory</td>\n",
       "      <td>Not Mentioned</td>\n",
       "      <td>India</td>\n",
       "      <td>2021</td>\n",
       "      <td>TV-MA</td>\n",
       "      <td>2 Seasons</td>\n",
       "      <td>25</td>\n",
       "      <td>2021</td>\n",
       "      <td>September</td>\n",
       "      <td>International TV Shows</td>\n",
       "      <td>Mayur More</td>\n",
       "    </tr>\n",
       "    <tr>\n",
       "      <th>5</th>\n",
       "      <td>TV Show</td>\n",
       "      <td>Midnight Mass</td>\n",
       "      <td>Mike Flanagan</td>\n",
       "      <td>United States</td>\n",
       "      <td>2021</td>\n",
       "      <td>TV-MA</td>\n",
       "      <td>1 Season</td>\n",
       "      <td>25</td>\n",
       "      <td>2021</td>\n",
       "      <td>September</td>\n",
       "      <td>TV Dramas</td>\n",
       "      <td>Kate Siegel</td>\n",
       "    </tr>\n",
       "    <tr>\n",
       "      <th>6</th>\n",
       "      <td>Movie</td>\n",
       "      <td>My Little Pony: A New Generation</td>\n",
       "      <td>Robert Cullen, José Luis Ucha</td>\n",
       "      <td>United States</td>\n",
       "      <td>2021</td>\n",
       "      <td>PG</td>\n",
       "      <td>91 min</td>\n",
       "      <td>25</td>\n",
       "      <td>2021</td>\n",
       "      <td>September</td>\n",
       "      <td>Children &amp; Family Movies</td>\n",
       "      <td>Vanessa Hudgens</td>\n",
       "    </tr>\n",
       "  </tbody>\n",
       "</table>\n",
       "</div>"
      ],
      "text/plain": [
       "      type                             title                       director  \\\n",
       "1  TV Show                     Blood & Water                  Not Mentioned   \n",
       "2  TV Show                         Ganglands                Julien Leclercq   \n",
       "4  TV Show                      Kota Factory                  Not Mentioned   \n",
       "5  TV Show                     Midnight Mass                  Mike Flanagan   \n",
       "6    Movie  My Little Pony: A New Generation  Robert Cullen, José Luis Ucha   \n",
       "\n",
       "         country  release_year rating   duration  Date  year      month  \\\n",
       "1   South Africa          2021  TV-MA  2 Seasons    25  2021  September   \n",
       "2  United States          2021  TV-MA   1 Season    25  2021  September   \n",
       "4          India          2021  TV-MA  2 Seasons    25  2021  September   \n",
       "5  United States          2021  TV-MA   1 Season    25  2021  September   \n",
       "6  United States          2021     PG     91 min    25  2021  September   \n",
       "\n",
       "                      genre       lead_actor  \n",
       "1    International TV Shows       Ama Qamata  \n",
       "2            Crime TV Shows    Sami Bouajila  \n",
       "4    International TV Shows       Mayur More  \n",
       "5                 TV Dramas      Kate Siegel  \n",
       "6  Children & Family Movies  Vanessa Hudgens  "
      ]
     },
     "execution_count": 119,
     "metadata": {},
     "output_type": "execute_result"
    }
   ],
   "source": [
    "df.head()"
   ]
  },
  {
   "cell_type": "code",
   "execution_count": 120,
   "id": "66c5b9e7-2f5d-4243-b80c-57e2fcfd8e61",
   "metadata": {},
   "outputs": [],
   "source": [
    "df.to_csv('-Netflix_cleaned_data.csv')"
   ]
  },
  {
   "cell_type": "code",
   "execution_count": 121,
   "id": "2d58cf1f-a2e2-4ecd-93fa-9189445bae41",
   "metadata": {},
   "outputs": [],
   "source": [
    "df.to_csv('Netflix_cleaned_data.csv')"
   ]
  },
  {
   "cell_type": "code",
   "execution_count": null,
   "id": "93575755-4cca-4352-b483-5ee519567f70",
   "metadata": {},
   "outputs": [],
   "source": []
  }
 ],
 "metadata": {
  "kernelspec": {
   "display_name": "Python 3 (ipykernel)",
   "language": "python",
   "name": "python3"
  },
  "language_info": {
   "codemirror_mode": {
    "name": "ipython",
    "version": 3
   },
   "file_extension": ".py",
   "mimetype": "text/x-python",
   "name": "python",
   "nbconvert_exporter": "python",
   "pygments_lexer": "ipython3",
   "version": "3.12.0"
  }
 },
 "nbformat": 4,
 "nbformat_minor": 5
}
